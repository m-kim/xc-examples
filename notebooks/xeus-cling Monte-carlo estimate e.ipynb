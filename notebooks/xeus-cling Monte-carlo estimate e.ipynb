{
 "cells": [
  {
   "cell_type": "code",
   "execution_count": 1,
   "metadata": {},
   "outputs": [],
   "source": [
    "#include <random>\n",
    "//anonymous lambda as a work around for redefinition when recompiling\n",
    "std::map<uint, float> f,g;\n",
    "const uint N =100000;\n"
   ]
  },
  {
   "cell_type": "code",
   "execution_count": 2,
   "metadata": {},
   "outputs": [],
   "source": [
    "[&](){\n",
    "    \n",
    "    \n",
    "auto try_and_err = [&]() {\n",
    "\n",
    "f.clear();\n",
    "std::random_device rd;\n",
    "std::mt19937 mt(rd());\n",
    "std::uniform_real_distribution<> dist(0.0, 1.0);\n",
    "    \n",
    "long long n = N;\n",
    "uint i = 0;\n",
    "float s = 0.0;\n",
    "while ( n > 0 )\n",
    "{\n",
    "    s += dist(mt);\n",
    "    i++;\n",
    "    if (s > 1.0)\n",
    "    {\n",
    "\n",
    "        f[i] += 1.0;\n",
    "        \n",
    "        i = 0;\n",
    "        s = 0.0;\n",
    "        n--;\n",
    "    }\n",
    "}\n",
    "    \n",
    "};\n",
    "    try_and_err();\n",
    "}();"
   ]
  },
  {
   "cell_type": "code",
   "execution_count": 3,
   "metadata": {},
   "outputs": [
    {
     "name": "stdout",
     "output_type": "stream",
     "text": [
      "2 1.0024\n",
      "3 0.99639\n",
      "4 0.50348\n",
      "5 0.1627\n",
      "6 0.04092\n",
      "7 0.00889\n",
      "8 0.00128\n",
      "9 9e-05\n",
      "2.71615\n"
     ]
    }
   ],
   "source": [
    "#include <iostream>\n",
    "\n",
    "[&](){\n",
    "    auto try_and_err = [&]()\n",
    "    {\n",
    "        float tot = 0.0;\n",
    "        for ( const auto &pr : f ) {\n",
    "            auto [first, second] = pr;\n",
    "            g[first] = first * second/static_cast<float>(N);\n",
    "            std::cout << first << \" \" << g[first] << std::endl;  \n",
    "            tot += g[first];\n",
    "        }\n",
    "        \n",
    "        std::cout << tot << std::endl;\n",
    "    };\n",
    "    try_and_err();\n",
    "}();\n"
   ]
  },
  {
   "cell_type": "code",
   "execution_count": 4,
   "metadata": {},
   "outputs": [
    {
     "data": {
      "text/html": [
       "<!DOCTYPE html><meta http-equiv=\"X-UA-Compatible\" content=\"IE=edge\" /><style>.chart rect {  fill: steelblue;}.chart text {  fill: white;  font: 10px sans-serif;  text-anchor: end;}</style><svg class=\"chart\"></svg><script>require.config({paths: {d3:\"https://d3js.org/d3.v4.min\"}});require([\"d3\"], function(d3) {window.d3 = d3;});var data = [1.002400, 0.996390, 0.503480, 0.162700, 0.040920, 0.008890, 0.001280, 0.000090, ];var width = 420,barHeight = 20;var x = d3.scaleLinear()   .domain([0, d3.max(data)])    .range([0, width]);var chart = d3.select(\".chart\")    .attr(\"width\", width)    .attr(\"height\", barHeight * data.length);var bar = chart.selectAll(\"g\")     .select('svg')    .data(data)  .enter().append(\"g\")    .attr(\"transform\", function(d, i) { return \"translate(0,\" + i * barHeight + \")\"; });bar.append(\"rect\")   .attr(\"width\", x)    .attr(\"height\", barHeight - 1);bar.append(\"text\").attr(\"x\", function(d) { return x(d); })    .attr(\"y\", barHeight / 2)    .attr(\"dy\", \".35em\")    .text(function(d) { return d; });</script>"
      ]
     },
     "metadata": {},
     "output_type": "display_data"
    }
   ],
   "source": [
    "#include \"nlohmann/json.hpp\"\n",
    "[&](){\n",
    "    auto try_and_err = [&]() {\n",
    "auto bundle = nlohmann::json::object();\n",
    "std::string str;\n",
    "str += \"<!DOCTYPE html>\";\n",
    "str += \"<meta http-equiv=\\\"X-UA-Compatible\\\" content=\\\"IE=edge\\\" />\";\n",
    "        \n",
    "str += \"<style>\";\n",
    "\n",
    "str += \".chart rect {\";\n",
    "str += \"  fill: steelblue;\";\n",
    "str += \"}\";\n",
    "str += \".chart text {\";\n",
    "str += \"  fill: white;\";\n",
    "str += \"  font: 10px sans-serif;\";\n",
    "str += \"  text-anchor: end;\";\n",
    "str += \"}\";\n",
    "\n",
    "\n",
    "str += \"</style>\";\n",
    "str += \"<svg class=\\\"chart\\\"></svg>\";\n",
    "\n",
    "str += \"<script>require.config({paths: {d3:\\\"https://d3js.org/d3.v4.min\\\"}});\";\n",
    "str += \"require([\\\"d3\\\"], function(d3) {\";\n",
    "str += \"window.d3 = d3;});\";\n",
    "str += \"var data = [\";\n",
    "for ( const auto &pr : g ) \n",
    "{\n",
    "    auto [first, second] = pr;\n",
    "    str += std::to_string(second);\n",
    "    str += \", \";\n",
    "}\n",
    "str += \"];\";\n",
    "str += \"var width = 420,\";\n",
    "str += \"barHeight = 20;\";\n",
    "str += \"var x = d3.scaleLinear()\";\n",
    "str += \"   .domain([0, d3.max(data)])\";\n",
    "str += \"    .range([0, width]);\";\n",
    "str += \"var chart = d3.select(\\\".chart\\\")\";\n",
    "str += \"    .attr(\\\"width\\\", width)\";\n",
    "str += \"    .attr(\\\"height\\\", barHeight * data.length);\";\n",
    "str += \"var bar = chart.selectAll(\\\"g\\\")\";\n",
    "str += \"     .select('svg')\";        \n",
    "str += \"    .data(data)\";\n",
    "str += \"  .enter().append(\\\"g\\\")\";\n",
    "str += \"    .attr(\\\"transform\\\", function(d, i) { return \\\"translate(0,\\\" + i * barHeight + \\\")\\\"; });\";\n",
    "str += \"bar.append(\\\"rect\\\")\";   \n",
    "str += \"   .attr(\\\"width\\\", x)\";\n",
    "str += \"    .attr(\\\"height\\\", barHeight - 1);\";\n",
    "str += \"bar.append(\\\"text\\\")\";\n",
    "str += \".attr(\\\"x\\\", function(d) { return x(d); })\";\n",
    "str += \"    .attr(\\\"y\\\", barHeight / 2)\";\n",
    "str += \"    .attr(\\\"dy\\\", \\\".35em\\\")\";\n",
    "str += \"    .text(function(d) { return d; });\";\n",
    "\n",
    "str += \"</script>\";\n",
    "//str += \"<svg width='500' height='200'></svg>\";\n",
    "bundle[\"text/html\"] = str;\n",
    "        \n",
    "xeus::get_interpreter().display_data(bundle, xeus::xjson::object(), xeus::xjson::object());\n",
    "    };\n",
    "    try_and_err();\n",
    "}();"
   ]
  },
  {
   "cell_type": "raw",
   "metadata": {},
   "source": []
  },
  {
   "cell_type": "code",
   "execution_count": null,
   "metadata": {},
   "outputs": [],
   "source": []
  }
 ],
 "metadata": {
  "kernelspec": {
   "display_name": "C++17",
   "language": "C++17",
   "name": "xeus-cling-cpp17"
  },
  "language_info": {
   "codemirror_mode": "text/x-c++src",
   "file_extension": ".cpp",
   "mimetype": "text/x-c++src",
   "name": "c++",
   "version": "-std=c++17"
  }
 },
 "nbformat": 4,
 "nbformat_minor": 2
}
