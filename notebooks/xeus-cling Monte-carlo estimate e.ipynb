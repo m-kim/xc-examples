{
 "cells": [
  {
   "cell_type": "code",
   "execution_count": 1,
   "metadata": {},
   "outputs": [],
   "source": [
    "#include <random>\n",
    "//anonymous lambda as a work around for redefinition when recompiling\n",
    "std::map<uint, float> f,g;\n",
    "const uint N = 1000000;\n"
   ]
  },
  {
   "cell_type": "code",
   "execution_count": 2,
   "metadata": {},
   "outputs": [],
   "source": [
    "[&](){\n",
    "    \n",
    "    \n",
    "auto try_and_err = [&]() {\n",
    "\n",
    "f.clear();\n",
    "std::random_device rd;\n",
    "std::mt19937 mt(rd());\n",
    "std::uniform_real_distribution<> dist(0.0, 1.0);\n",
    "    \n",
    "long long n = N;\n",
    "uint i = 0;\n",
    "float s = 0.0;\n",
    "while ( n > 0 )\n",
    "{\n",
    "    s += dist(mt);\n",
    "    i++;\n",
    "    if (s > 1.0)\n",
    "    {\n",
    "\n",
    "        f[i] += 1.0;\n",
    "        \n",
    "        i = 0;\n",
    "        s = 0.0;\n",
    "        n--;\n",
    "    }\n",
    "}\n",
    "    \n",
    "};\n",
    "    try_and_err();\n",
    "}();"
   ]
  },
  {
   "cell_type": "code",
   "execution_count": 3,
   "metadata": {},
   "outputs": [
    {
     "name": "stdout",
     "output_type": "stream",
     "text": [
      "2 0.998418\n",
      "3 1.00154\n",
      "4 0.501336\n",
      "5 0.16564\n",
      "6 0.04245\n",
      "7 0.008344\n",
      "8 0.001448\n",
      "9 0.000297\n",
      "10 1e-05\n",
      "2.71948\n"
     ]
    }
   ],
   "source": [
    "#include <iostream>\n",
    "\n",
    "[&](){\n",
    "    auto try_and_err = [&]()\n",
    "    {\n",
    "        float tot = 0.0;\n",
    "        for ( const auto &pr : f ) {\n",
    "            auto [first, second] = pr;\n",
    "            g[first] = first * second/static_cast<float>(N);\n",
    "            std::cout << first << \" \" << g[first] << std::endl;  \n",
    "            tot += g[first];\n",
    "        }\n",
    "        \n",
    "        std::cout << tot << std::endl;\n",
    "    };\n",
    "    try_and_err();\n",
    "}();\n"
   ]
  },
  {
   "cell_type": "code",
   "execution_count": 4,
   "metadata": {},
   "outputs": [
    {
     "data": {
      "text/html": [
       "<!DOCTYPE html><meta http-equiv=\"X-UA-Compatible\" content=\"IE=edge\" /><style>.chart rect {  fill: steelblue;}.chart text {  fill: white;  font: 10px sans-serif;  text-anchor: end;}</style><svg class=\"chart\"></svg><script>require.config({paths: {d3:\"https://d3js.org/d3.v4.min\"}});require([\"d3\"], function(d3) {window.d3 = d3;});var data = [0.998418, 1.001541, 0.501336, 0.165640, 0.042450, 0.008344, 0.001448, 0.000297, 0.000010, ];var width = 420,barHeight = 20;var x = d3.scaleLinear()   .domain([0, d3.max(data)])    .range([0, width]);var chart = d3.select(\".chart\")    .attr(\"width\", width)    .attr(\"height\", barHeight * data.length);var bar = chart.selectAll(\"g\")     .select('svg')    .data(data)  .enter().append(\"g\")    .attr(\"transform\", function(d, i) { return \"translate(0,\" + i * barHeight + \")\"; });bar.append(\"rect\")   .attr(\"width\", x)    .attr(\"height\", barHeight - 1);bar.append(\"text\").attr(\"x\", function(d) { return x(d); })    .attr(\"y\", barHeight / 2)    .attr(\"dy\", \".35em\")    .text(function(d) { return d; });</script>"
      ]
     },
     "metadata": {},
     "output_type": "display_data"
    }
   ],
   "source": [
    "#include \"nlohmann/json.hpp\"\n",
    "[&](){\n",
    "    auto try_and_err = [&]() {\n",
    "auto bundle = nlohmann::json::object();\n",
    "std::string str;\n",
    "str += \"<!DOCTYPE html>\";\n",
    "str += \"<meta http-equiv=\\\"X-UA-Compatible\\\" content=\\\"IE=edge\\\" />\";\n",
    "        \n",
    "str += \"<style>\";\n",
    "\n",
    "str += \".chart rect {\";\n",
    "str += \"  fill: steelblue;\";\n",
    "str += \"}\";\n",
    "str += \".chart text {\";\n",
    "str += \"  fill: white;\";\n",
    "str += \"  font: 10px sans-serif;\";\n",
    "str += \"  text-anchor: end;\";\n",
    "str += \"}\";\n",
    "\n",
    "\n",
    "str += \"</style>\";\n",
    "str += \"<svg class=\\\"chart\\\"></svg>\";\n",
    "\n",
    "str += \"<script>require.config({paths: {d3:\\\"https://d3js.org/d3.v4.min\\\"}});\";\n",
    "str += \"require([\\\"d3\\\"], function(d3) {\";\n",
    "str += \"window.d3 = d3;});\";\n",
    "str += \"var data = [\";\n",
    "for ( const auto &pr : g ) \n",
    "{\n",
    "    auto [first, second] = pr;\n",
    "    str += std::to_string(second);\n",
    "    str += \", \";\n",
    "}\n",
    "str += \"];\";\n",
    "str += \"var width = 420,\";\n",
    "str += \"barHeight = 20;\";\n",
    "str += \"var x = d3.scaleLinear()\";\n",
    "str += \"   .domain([0, d3.max(data)])\";\n",
    "str += \"    .range([0, width]);\";\n",
    "str += \"var chart = d3.select(\\\".chart\\\")\";\n",
    "str += \"    .attr(\\\"width\\\", width)\";\n",
    "str += \"    .attr(\\\"height\\\", barHeight * data.length);\";\n",
    "str += \"var bar = chart.selectAll(\\\"g\\\")\";\n",
    "str += \"     .select('svg')\";        \n",
    "str += \"    .data(data)\";\n",
    "str += \"  .enter().append(\\\"g\\\")\";\n",
    "str += \"    .attr(\\\"transform\\\", function(d, i) { return \\\"translate(0,\\\" + i * barHeight + \\\")\\\"; });\";\n",
    "str += \"bar.append(\\\"rect\\\")\";   \n",
    "str += \"   .attr(\\\"width\\\", x)\";\n",
    "str += \"    .attr(\\\"height\\\", barHeight - 1);\";\n",
    "str += \"bar.append(\\\"text\\\")\";\n",
    "str += \".attr(\\\"x\\\", function(d) { return x(d); })\";\n",
    "str += \"    .attr(\\\"y\\\", barHeight / 2)\";\n",
    "str += \"    .attr(\\\"dy\\\", \\\".35em\\\")\";\n",
    "str += \"    .text(function(d) { return d; });\";\n",
    "\n",
    "str += \"</script>\";\n",
    "//str += \"<svg width='500' height='200'></svg>\";\n",
    "bundle[\"text/html\"] = str;\n",
    "        \n",
    "xeus::get_interpreter().display_data(bundle, xeus::xjson::object(), xeus::xjson::object());\n",
    "    };\n",
    "    try_and_err();\n",
    "}();"
   ]
  },
  {
   "cell_type": "code",
   "execution_count": 5,
   "metadata": {},
   "outputs": [],
   "source": [
    "#include \"xplot/xfigure.hpp\"\n",
    "#include \"xplot/xmarks.hpp\"\n",
    "#include \"xplot/xaxes.hpp\"\n",
    "#include <vector>\n",
    "#include <random>\n",
    "#include <memory>\n",
    "#include <tuple>\n",
    "std::unique_ptr<xpl::figure> fig;\n",
    "std::unique_ptr<xpl::ordinal_scale> xs;\n",
    "std::unique_ptr<xpl::linear_scale> ys;\n",
    "std::unique_ptr<xpl::bars> bar;\n",
    "std::unique_ptr<xpl::axis> hx,hy;"
   ]
  },
  {
   "cell_type": "code",
   "execution_count": 6,
   "metadata": {},
   "outputs": [
    {
     "data": {
      "application/vnd.jupyter.widget-view+json": {
       "model_id": "45551f2efdb14683984d212728db2d63",
       "version_major": 2,
       "version_minor": 0
      },
      "text/plain": [
       "A Jupyter widget"
      ]
     },
     "metadata": {},
     "output_type": "display_data"
    }
   ],
   "source": [
    "#include \"xcpp/xdisplay.hpp\"\n",
    "\n",
    "\n",
    "[&]()\n",
    "{\n",
    "    auto try_and_err = [&]()\n",
    "    {    \n",
    "xs = std::make_unique<xpl::ordinal_scale>();\n",
    "ys = std::make_unique<xpl::linear_scale>();        \n",
    "bar = std::make_unique<xpl::bars>(*xs, *ys);\n",
    "\n",
    "std::random_device rd;\n",
    "std::mt19937 mt(rd());\n",
    "std::uniform_real_distribution<> dist(0.0, 1.0);\n",
    "\n",
    "std::map<uint,float>::iterator it = g.end();\n",
    "        \n",
    "std::size_t size = it->first + 1;\n",
    "std::vector<double> x(size);\n",
    "std::iota(x.begin(), x.end(), 0);\n",
    "std::vector<double> y(size);\n",
    "\n",
    "        \n",
    "for(auto i: g)\n",
    "{\n",
    "    auto [first, second] = i;\n",
    "    y[first] = second;\n",
    "}\n",
    "        \n",
    "bar->x = x;\n",
    "bar->y = y;\n",
    "bar->padding = 0.5;\n",
    "\n",
    "fig = std::make_unique<xpl::figure>();\n",
    "fig->add_mark(*bar);\n",
    "xcpp::display(*fig);\n",
    "    };\n",
    "    try_and_err();\n",
    "}();\n"
   ]
  },
  {
   "cell_type": "code",
   "execution_count": 7,
   "metadata": {},
   "outputs": [],
   "source": [
    "[&]()\n",
    "{\n",
    "    auto try_and_err = [&]()\n",
    "    {\n",
    "hx = std::make_unique<xpl::axis>(*xs);\n",
    "hy = std::make_unique<xpl::axis>(*ys);\n",
    "hy->orientation = \"vertical\";\n",
    "fig->add_axis(*hx);\n",
    "fig->add_axis(*hy);      \n",
    "std::vector<double> opacities(10);\n",
    "std::fill(opacities.begin(), opacities.end(), 0.5);        \n",
    "bar->opacities = opacities;\n",
    "bar->colors = std::vector<std::string>({\"blue\"});        \n",
    "        \n",
    "    };\n",
    "    try_and_err();\n",
    "}();\n"
   ]
  },
  {
   "cell_type": "code",
   "execution_count": null,
   "metadata": {},
   "outputs": [],
   "source": []
  }
 ],
 "metadata": {
  "kernelspec": {
   "display_name": "C++17",
   "language": "C++17",
   "name": "xeus-cling-cpp17"
  },
  "language_info": {
   "codemirror_mode": "text/x-c++src",
   "file_extension": ".cpp",
   "mimetype": "text/x-c++src",
   "name": "c++",
   "version": "-std=c++17"
  }
 },
 "nbformat": 4,
 "nbformat_minor": 2
}
