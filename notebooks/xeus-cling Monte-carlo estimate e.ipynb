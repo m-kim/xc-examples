{
 "cells": [
  {
   "cell_type": "code",
   "execution_count": 1,
   "metadata": {},
   "outputs": [],
   "source": [
    "#include <random>\n",
    "//anonymous lambda as a work around for redefinition when recompiling\n",
    "std::map<uint, float> f,g;\n",
    "const uint N = 10000;\n",
    "#include \"xplot/xfigure.hpp\"\n",
    "#include \"xplot/xmarks.hpp\"\n",
    "#include \"xplot/xaxes.hpp\"\n",
    "#include <memory>\n",
    "#include \"xwidgets/xslider.hpp\"\n",
    "#include \"xwidgets/xplay.hpp\"\n",
    "\n",
    "std::unique_ptr<xpl::figure> fig;\n",
    "std::unique_ptr<xpl::linear_scale> xs, ys;\n",
    "std::unique_ptr<xpl::axis> ax_x,ax_y;\n",
    "std::unique_ptr<xpl::scatter> scatter;\n",
    "std::vector<double> x_data, y_data;\n",
    "\n",
    "x_data.reserve(N%100);\n",
    "y_data.reserve(N%100);"
   ]
  },
  {
   "cell_type": "code",
   "execution_count": 2,
   "metadata": {},
   "outputs": [
    {
     "data": {
      "application/vnd.jupyter.widget-view+json": {
       "model_id": "1ec9c78f25814b559988bdcbfe8ca3de",
       "version_major": 2,
       "version_minor": 0
      },
      "text/plain": [
       "A Jupyter widget"
      ]
     },
     "metadata": {},
     "output_type": "display_data"
    },
    {
     "data": {
      "application/vnd.jupyter.widget-view+json": {
       "model_id": "1eca08048e944a1e81b3e2173c964883",
       "version_major": 2,
       "version_minor": 0
      },
      "text/plain": [
       "A Jupyter widget"
      ]
     },
     "metadata": {},
     "output_type": "display_data"
    }
   ],
   "source": [
    "#include \"xcpp/xdisplay.hpp\"\n",
    "\n",
    "\n",
    "[&]()\n",
    "{\n",
    "    auto try_and_err = [&]()\n",
    "    {    \n",
    "xs = std::make_unique<xpl::linear_scale>();\n",
    "ys = std::make_unique<xpl::linear_scale>();        \n",
    "\n",
    "auto tmp = xpl::axis_generator(*xs)\n",
    "    .label(\"x\")\n",
    "    .finalize();\n",
    "ax_x = std::make_unique<xpl::axis>(tmp);\n",
    "tmp = xpl::axis_generator(*ys)\n",
    "    .label(\"y\")\n",
    "    .orientation(\"vertical\")\n",
    "    .side(\"left\")\n",
    "    .finalize();        \n",
    "ax_y = std::make_unique<xpl::axis>(tmp);\n",
    "\n",
    "auto tmpfig = xpl::figure_generator()\n",
    "    .padding_x(0.025)\n",
    "    .padding_y(0.025)\n",
    "    .finalize();\n",
    "fig = std::make_unique<xpl::figure>(tmpfig);\n",
    "auto tmpscat = xpl::scatter_generator(*xs, *ys)\n",
    "   .x(x_data)\n",
    "   .y(y_data)\n",
    "   .finalize();        \n",
    "scatter = std::make_unique<xpl::scatter>(tmpscat);        \n",
    "fig->add_mark(*scatter);\n",
    "fig->add_axis(*ax_x);\n",
    "fig->add_axis(*ax_y);\n",
    "        \n",
    "xcpp::display(*fig);\n",
    "            xw::play play;\n",
    "        xcpp::display(play);\n",
    "        \n",
    "    };\n",
    "    try_and_err();\n",
    "}();\n"
   ]
  },
  {
   "cell_type": "code",
   "execution_count": 3,
   "metadata": {},
   "outputs": [],
   "source": [
    "[&](){\n",
    "    \n",
    "    \n",
    "auto try_and_err = [&]() {\n",
    "\n",
    "f.clear();\n",
    "std::random_device rd;\n",
    "std::mt19937 mt(rd());\n",
    "std::uniform_real_distribution<> dist(0.0, 1.0);\n",
    "x_data.clear();\n",
    "y_data.clear();\n",
    "long long n = N;\n",
    "uint i = 0;\n",
    "float s = 0.0;\n",
    "while ( n > 0 )\n",
    "{\n",
    "\n",
    "    s += dist(mt);\n",
    "    i++;\n",
    "    if (s > 1.0)\n",
    "    {\n",
    "        f[i] += 1.0;\n",
    "        if (!(n %100)){\n",
    "            float tot = 0;\n",
    "\n",
    "            for ( const auto &pr : f ) {\n",
    "                auto [first, second] = pr;\n",
    "                tot += first * second / (N-n);\n",
    "            }\n",
    "\n",
    "            x_data.push_back((N-n)/static_cast<double>(N));\n",
    "            y_data.push_back(tot);\n",
    "            auto tmpscat = xpl::scatter_generator(*xs, *ys)\n",
    "                    .x(x_data)\n",
    "                    .y(y_data)\n",
    "                    .finalize();        \n",
    "            fig->remove_mark(*scatter);\n",
    "            scatter = std::make_unique<xpl::scatter>(tmpscat);        \n",
    "            fig->add_mark(*scatter);\n",
    "            \n",
    "        }\n",
    "        \n",
    "\n",
    "        \n",
    "        i = 0;\n",
    "        s = 0.0;\n",
    "        n--;\n",
    "    }\n",
    "}\n",
    "\n",
    "    \n",
    "};\n",
    "    try_and_err();\n",
    "}();"
   ]
  },
  {
   "cell_type": "code",
   "execution_count": 4,
   "metadata": {},
   "outputs": [
    {
     "name": "stdout",
     "output_type": "stream",
     "text": [
      "2 1.01\n",
      "3 0.9891\n",
      "4 0.5008\n",
      "5 0.167\n",
      "6 0.033\n",
      "7 0.0063\n",
      "8 0.0016\n",
      "9 0.0009\n",
      "2.7087\n"
     ]
    }
   ],
   "source": [
    "#include <iostream>\n",
    "\n",
    "[&](){\n",
    "    auto try_and_err = [&]()\n",
    "    {\n",
    "        float tot = 0.0;\n",
    "        for ( const auto &pr : f ) {\n",
    "            auto [first, second] = pr;\n",
    "            g[first] = first * second/static_cast<float>(N);\n",
    "            std::cout << first << \" \" << g[first] << std::endl;  \n",
    "            tot += g[first];\n",
    "        }\n",
    "        \n",
    "        std::cout << tot << std::endl;\n",
    "    };\n",
    "    try_and_err();\n",
    "}();\n"
   ]
  },
  {
   "cell_type": "code",
   "execution_count": 5,
   "metadata": {},
   "outputs": [
    {
     "data": {
      "text/html": [
       "<!DOCTYPE html><meta http-equiv=\"X-UA-Compatible\" content=\"IE=edge\" /><style>.chart rect {  fill: steelblue;}.chart text {  fill: white;  font: 10px sans-serif;  text-anchor: end;}</style><svg class=\"chart\"></svg><script>require.config({paths: {d3:\"https://d3js.org/d3.v4.min\"}});require([\"d3\"], function(d3) {window.d3 = d3;});var data = [1.010000, 0.989100, 0.500800, 0.167000, 0.033000, 0.006300, 0.001600, 0.000900, ];var width = 420,barHeight = 20;var x = d3.scaleLinear()   .domain([0, d3.max(data)])    .range([0, width]);var chart = d3.select(\".chart\")    .attr(\"width\", width)    .attr(\"height\", barHeight * data.length);var bar = chart.selectAll(\"g\")     .select('svg')    .data(data)  .enter().append(\"g\")    .attr(\"transform\", function(d, i) { return \"translate(0,\" + i * barHeight + \")\"; });bar.append(\"rect\")   .attr(\"width\", x)    .attr(\"height\", barHeight - 1);bar.append(\"text\").attr(\"x\", function(d) { return x(d); })    .attr(\"y\", barHeight / 2)    .attr(\"dy\", \".35em\")    .text(function(d) { return d; });</script>"
      ]
     },
     "metadata": {},
     "output_type": "display_data"
    }
   ],
   "source": [
    "#include \"nlohmann/json.hpp\"\n",
    "[&](){\n",
    "    auto try_and_err = [&]() {\n",
    "auto bundle = nlohmann::json::object();\n",
    "std::string str;\n",
    "str += \"<!DOCTYPE html>\";\n",
    "str += \"<meta http-equiv=\\\"X-UA-Compatible\\\" content=\\\"IE=edge\\\" />\";\n",
    "        \n",
    "str += \"<style>\";\n",
    "\n",
    "str += \".chart rect {\";\n",
    "str += \"  fill: steelblue;\";\n",
    "str += \"}\";\n",
    "str += \".chart text {\";\n",
    "str += \"  fill: white;\";\n",
    "str += \"  font: 10px sans-serif;\";\n",
    "str += \"  text-anchor: end;\";\n",
    "str += \"}\";\n",
    "\n",
    "\n",
    "str += \"</style>\";\n",
    "str += \"<svg class=\\\"chart\\\"></svg>\";\n",
    "\n",
    "str += \"<script>require.config({paths: {d3:\\\"https://d3js.org/d3.v4.min\\\"}});\";\n",
    "str += \"require([\\\"d3\\\"], function(d3) {\";\n",
    "str += \"window.d3 = d3;});\";\n",
    "str += \"var data = [\";\n",
    "for ( const auto &pr : g ) \n",
    "{\n",
    "    auto [first, second] = pr;\n",
    "    str += std::to_string(second);\n",
    "    str += \", \";\n",
    "}\n",
    "str += \"];\";\n",
    "str += \"var width = 420,\";\n",
    "str += \"barHeight = 20;\";\n",
    "str += \"var x = d3.scaleLinear()\";\n",
    "str += \"   .domain([0, d3.max(data)])\";\n",
    "str += \"    .range([0, width]);\";\n",
    "str += \"var chart = d3.select(\\\".chart\\\")\";\n",
    "str += \"    .attr(\\\"width\\\", width)\";\n",
    "str += \"    .attr(\\\"height\\\", barHeight * data.length);\";\n",
    "str += \"var bar = chart.selectAll(\\\"g\\\")\";\n",
    "str += \"     .select('svg')\";        \n",
    "str += \"    .data(data)\";\n",
    "str += \"  .enter().append(\\\"g\\\")\";\n",
    "str += \"    .attr(\\\"transform\\\", function(d, i) { return \\\"translate(0,\\\" + i * barHeight + \\\")\\\"; });\";\n",
    "str += \"bar.append(\\\"rect\\\")\";   \n",
    "str += \"   .attr(\\\"width\\\", x)\";\n",
    "str += \"    .attr(\\\"height\\\", barHeight - 1);\";\n",
    "str += \"bar.append(\\\"text\\\")\";\n",
    "str += \".attr(\\\"x\\\", function(d) { return x(d); })\";\n",
    "str += \"    .attr(\\\"y\\\", barHeight / 2)\";\n",
    "str += \"    .attr(\\\"dy\\\", \\\".35em\\\")\";\n",
    "str += \"    .text(function(d) { return d; });\";\n",
    "\n",
    "str += \"</script>\";\n",
    "//str += \"<svg width='500' height='200'></svg>\";\n",
    "bundle[\"text/html\"] = str;\n",
    "        \n",
    "xeus::get_interpreter().display_data(bundle, xeus::xjson::object(), xeus::xjson::object());\n",
    "    };\n",
    "    try_and_err();\n",
    "}();"
   ]
  },
  {
   "cell_type": "raw",
   "metadata": {},
   "source": [
    "#include \"xplot/xfigure.hpp\"\n",
    "#include \"xplot/xmarks.hpp\"\n",
    "#include \"xplot/xaxes.hpp\"\n",
    "#include <vector>\n",
    "#include <random>\n",
    "#include <memory>\n",
    "#include <tuple>\n",
    "std::unique_ptr<xpl::figure> fig;\n",
    "std::unique_ptr<xpl::ordinal_scale> xs;\n",
    "std::unique_ptr<xpl::linear_scale> ys;\n",
    "std::unique_ptr<xpl::bars> bar;\n",
    "std::unique_ptr<xpl::axis> hx,hy;"
   ]
  },
  {
   "cell_type": "raw",
   "metadata": {},
   "source": [
    "#include \"xcpp/xdisplay.hpp\"\n",
    "\n",
    "\n",
    "[&]()\n",
    "{\n",
    "    auto try_and_err = [&]()\n",
    "    {    \n",
    "xs = std::make_unique<xpl::ordinal_scale>();\n",
    "ys = std::make_unique<xpl::linear_scale>();        \n",
    "bar = std::make_unique<xpl::bars>(*xs, *ys);\n",
    "\n",
    "std::random_device rd;\n",
    "std::mt19937 mt(rd());\n",
    "std::uniform_real_distribution<> dist(0.0, 1.0);\n",
    "\n",
    "std::map<uint,float>::iterator it = g.end();\n",
    "        \n",
    "std::size_t size = it->first + 1;\n",
    "std::vector<double> x(size);\n",
    "std::iota(x.begin(), x.end(), 0);\n",
    "std::vector<double> y(size);\n",
    "\n",
    "        \n",
    "for(auto i: g)\n",
    "{\n",
    "    auto [first, second] = i;\n",
    "    y[first] = second;\n",
    "}\n",
    "        \n",
    "bar->x = x;\n",
    "bar->y = y;\n",
    "bar->padding = 0.5;\n",
    "\n",
    "fig = std::make_unique<xpl::figure>();\n",
    "fig->add_mark(*bar);\n",
    "xcpp::display(*fig);\n",
    "    };\n",
    "    try_and_err();\n",
    "}();\n"
   ]
  },
  {
   "cell_type": "raw",
   "metadata": {},
   "source": [
    "[&]()\n",
    "{\n",
    "    auto try_and_err = [&]()\n",
    "    {\n",
    "hx = std::make_unique<xpl::axis>(*xs);\n",
    "hy = std::make_unique<xpl::axis>(*ys);\n",
    "hy->orientation = \"vertical\";\n",
    "fig->add_axis(*hx);\n",
    "fig->add_axis(*hy);      \n",
    "std::vector<double> opacities(10);\n",
    "std::fill(opacities.begin(), opacities.end(), 0.5);        \n",
    "bar->opacities = opacities;\n",
    "bar->colors = std::vector<std::string>({\"blue\"});        \n",
    "        \n",
    "    };\n",
    "    try_and_err();\n",
    "}();\n"
   ]
  },
  {
   "cell_type": "code",
   "execution_count": 6,
   "metadata": {},
   "outputs": [
    {
     "name": "stderr",
     "output_type": "stream",
     "text": [
      "\u001b[1minput_line_18:5:1: \u001b[0m\u001b[0;1;31merror: \u001b[0m\u001b[1mfunction definition is not allowed here\u001b[0m\n",
      "{\n",
      "\u001b[0;1;32m^\n",
      "\u001b[0m\u001b[1minput_line_18:8:6: \u001b[0m\u001b[0;1;31merror: \u001b[0m\u001b[1mno member named 'on_click' in 'xw::xmaterialize<xplay>'\u001b[0m\n",
      "play.on_click(submit_callback);\n",
      "\u001b[0;1;32m~~~~ ^\n",
      "\u001b[0m\u001b[1minput_line_18:8:15: \u001b[0m\u001b[0;1;31merror: \u001b[0m\u001b[1muse of undeclared identifier 'submit_callback'\u001b[0m\n",
      "play.on_click(submit_callback);\n",
      "\u001b[0;1;32m              ^\n",
      "\u001b[0m"
     ]
    },
    {
     "ename": "Interpreter Error",
     "evalue": "",
     "output_type": "error",
     "traceback": [
      "Interpreter Error: "
     ]
    }
   ],
   "source": []
  },
  {
   "cell_type": "code",
   "execution_count": null,
   "metadata": {},
   "outputs": [],
   "source": []
  }
 ],
 "metadata": {
  "kernelspec": {
   "display_name": "C++17",
   "language": "C++17",
   "name": "xeus-cling-cpp17"
  },
  "language_info": {
   "codemirror_mode": "text/x-c++src",
   "file_extension": ".cpp",
   "mimetype": "text/x-c++src",
   "name": "c++",
   "version": "-std=c++17"
  }
 },
 "nbformat": 4,
 "nbformat_minor": 2
}
